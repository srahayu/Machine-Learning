{
 "cells": [
  {
   "cell_type": "markdown",
   "id": "da2d7b5c-0b90-452f-bc03-f07a1dc3f130",
   "metadata": {},
   "source": [
    "# LOGISTIC REGRESSION "
   ]
  },
  {
   "cell_type": "markdown",
   "id": "cf082656-0084-47d9-b9a7-1134a73f7843",
   "metadata": {},
   "source": [
    "# **1. Introduction**"
   ]
  },
  {
   "cell_type": "markdown",
   "id": "18814ff5-9eed-4213-81be-e5ff978ab45b",
   "metadata": {},
   "source": [
    "This dataset is originally from the National Institure of Diabetes and Digestice and Kidney Diseases. The dataset consists of women from the Indian Pima tribe. \n",
    "\n",
    "**Independent Variables**\n",
    "1. Pregnat\n",
    "2. Glucose\n",
    "3. BloodPressure\n",
    "4. SkinThickness\n",
    "5. Insulin\n",
    "6. BMI\n",
    "7. DPF = DiabetesPedigreeFunction\n",
    "8. Age\n",
    "\n",
    "**Dependent Variable**\n",
    "Outcome\n",
    "\n",
    "## Aim of the modelling \n",
    "1. Predicts whether or not patiens in the dataset have diabetes\n",
    "2. understanding the influence of significant factor that trul affects them. "
   ]
  },
  {
   "cell_type": "markdown",
   "id": "91cf3ece-50bf-40a9-bc1a-cabb0ff84b63",
   "metadata": {},
   "source": [
    "# **2. Load Dataset**"
   ]
  },
  {
   "cell_type": "code",
   "execution_count": 1,
   "id": "044ea2f3-c52a-4455-8b47-b2000db52902",
   "metadata": {},
   "outputs": [],
   "source": [
    "import numpy as np\n",
    "import pandas as pd\n",
    "import matplotlib.pyplot as plt\n",
    "import seaborn as sns"
   ]
  },
  {
   "cell_type": "code",
   "execution_count": 2,
   "id": "c73a07f1-aeb4-439c-8157-300478725397",
   "metadata": {},
   "outputs": [],
   "source": [
    "data = pd.read_csv('diabetes.csv')"
   ]
  },
  {
   "cell_type": "markdown",
   "id": "512bd1d4-8a41-426d-9ff8-3380f98b8119",
   "metadata": {},
   "source": [
    "# **3. Data Preparation**"
   ]
  },
  {
   "cell_type": "code",
   "execution_count": 3,
   "id": "42f7ea2a-0912-44b7-a81e-057bf29410ce",
   "metadata": {},
   "outputs": [
    {
     "data": {
      "text/html": [
       "<div>\n",
       "<style scoped>\n",
       "    .dataframe tbody tr th:only-of-type {\n",
       "        vertical-align: middle;\n",
       "    }\n",
       "\n",
       "    .dataframe tbody tr th {\n",
       "        vertical-align: top;\n",
       "    }\n",
       "\n",
       "    .dataframe thead th {\n",
       "        text-align: right;\n",
       "    }\n",
       "</style>\n",
       "<table border=\"1\" class=\"dataframe\">\n",
       "  <thead>\n",
       "    <tr style=\"text-align: right;\">\n",
       "      <th></th>\n",
       "      <th>Pregnancies</th>\n",
       "      <th>Glucose</th>\n",
       "      <th>BloodPressure</th>\n",
       "      <th>SkinThickness</th>\n",
       "      <th>Insulin</th>\n",
       "      <th>BMI</th>\n",
       "      <th>DiabetesPedigreeFunction</th>\n",
       "      <th>Age</th>\n",
       "      <th>Outcome</th>\n",
       "    </tr>\n",
       "  </thead>\n",
       "  <tbody>\n",
       "    <tr>\n",
       "      <th>0</th>\n",
       "      <td>6</td>\n",
       "      <td>148</td>\n",
       "      <td>72</td>\n",
       "      <td>35</td>\n",
       "      <td>0</td>\n",
       "      <td>33.6</td>\n",
       "      <td>0.627</td>\n",
       "      <td>50</td>\n",
       "      <td>1</td>\n",
       "    </tr>\n",
       "    <tr>\n",
       "      <th>1</th>\n",
       "      <td>1</td>\n",
       "      <td>85</td>\n",
       "      <td>66</td>\n",
       "      <td>29</td>\n",
       "      <td>0</td>\n",
       "      <td>26.6</td>\n",
       "      <td>0.351</td>\n",
       "      <td>31</td>\n",
       "      <td>0</td>\n",
       "    </tr>\n",
       "    <tr>\n",
       "      <th>2</th>\n",
       "      <td>8</td>\n",
       "      <td>183</td>\n",
       "      <td>64</td>\n",
       "      <td>0</td>\n",
       "      <td>0</td>\n",
       "      <td>23.3</td>\n",
       "      <td>0.672</td>\n",
       "      <td>32</td>\n",
       "      <td>1</td>\n",
       "    </tr>\n",
       "    <tr>\n",
       "      <th>3</th>\n",
       "      <td>1</td>\n",
       "      <td>89</td>\n",
       "      <td>66</td>\n",
       "      <td>23</td>\n",
       "      <td>94</td>\n",
       "      <td>28.1</td>\n",
       "      <td>0.167</td>\n",
       "      <td>21</td>\n",
       "      <td>0</td>\n",
       "    </tr>\n",
       "    <tr>\n",
       "      <th>4</th>\n",
       "      <td>0</td>\n",
       "      <td>137</td>\n",
       "      <td>40</td>\n",
       "      <td>35</td>\n",
       "      <td>168</td>\n",
       "      <td>43.1</td>\n",
       "      <td>2.288</td>\n",
       "      <td>33</td>\n",
       "      <td>1</td>\n",
       "    </tr>\n",
       "  </tbody>\n",
       "</table>\n",
       "</div>"
      ],
      "text/plain": [
       "   Pregnancies  Glucose  BloodPressure  SkinThickness  Insulin   BMI  \\\n",
       "0            6      148             72             35        0  33.6   \n",
       "1            1       85             66             29        0  26.6   \n",
       "2            8      183             64              0        0  23.3   \n",
       "3            1       89             66             23       94  28.1   \n",
       "4            0      137             40             35      168  43.1   \n",
       "\n",
       "   DiabetesPedigreeFunction  Age  Outcome  \n",
       "0                     0.627   50        1  \n",
       "1                     0.351   31        0  \n",
       "2                     0.672   32        1  \n",
       "3                     0.167   21        0  \n",
       "4                     2.288   33        1  "
      ]
     },
     "execution_count": 3,
     "metadata": {},
     "output_type": "execute_result"
    }
   ],
   "source": [
    "data.head()"
   ]
  },
  {
   "cell_type": "code",
   "execution_count": 4,
   "id": "b1993855-cd0d-44a3-9443-7ad6f3abcbd8",
   "metadata": {},
   "outputs": [],
   "source": [
    "data.rename(columns={'DiabetesPedigreeFunction':'DPF','BloodPressure':'BP','SkinThickness':'ST'},inplace=True)"
   ]
  },
  {
   "cell_type": "code",
   "execution_count": 5,
   "id": "7a153bec-c30b-44a2-abe9-a537ed377329",
   "metadata": {},
   "outputs": [
    {
     "data": {
      "text/html": [
       "<div>\n",
       "<style scoped>\n",
       "    .dataframe tbody tr th:only-of-type {\n",
       "        vertical-align: middle;\n",
       "    }\n",
       "\n",
       "    .dataframe tbody tr th {\n",
       "        vertical-align: top;\n",
       "    }\n",
       "\n",
       "    .dataframe thead th {\n",
       "        text-align: right;\n",
       "    }\n",
       "</style>\n",
       "<table border=\"1\" class=\"dataframe\">\n",
       "  <thead>\n",
       "    <tr style=\"text-align: right;\">\n",
       "      <th></th>\n",
       "      <th>Pregnancies</th>\n",
       "      <th>Glucose</th>\n",
       "      <th>BP</th>\n",
       "      <th>ST</th>\n",
       "      <th>Insulin</th>\n",
       "      <th>BMI</th>\n",
       "      <th>DPF</th>\n",
       "      <th>Age</th>\n",
       "      <th>Outcome</th>\n",
       "    </tr>\n",
       "  </thead>\n",
       "  <tbody>\n",
       "    <tr>\n",
       "      <th>0</th>\n",
       "      <td>6</td>\n",
       "      <td>148</td>\n",
       "      <td>72</td>\n",
       "      <td>35</td>\n",
       "      <td>0</td>\n",
       "      <td>33.6</td>\n",
       "      <td>0.627</td>\n",
       "      <td>50</td>\n",
       "      <td>1</td>\n",
       "    </tr>\n",
       "    <tr>\n",
       "      <th>1</th>\n",
       "      <td>1</td>\n",
       "      <td>85</td>\n",
       "      <td>66</td>\n",
       "      <td>29</td>\n",
       "      <td>0</td>\n",
       "      <td>26.6</td>\n",
       "      <td>0.351</td>\n",
       "      <td>31</td>\n",
       "      <td>0</td>\n",
       "    </tr>\n",
       "    <tr>\n",
       "      <th>2</th>\n",
       "      <td>8</td>\n",
       "      <td>183</td>\n",
       "      <td>64</td>\n",
       "      <td>0</td>\n",
       "      <td>0</td>\n",
       "      <td>23.3</td>\n",
       "      <td>0.672</td>\n",
       "      <td>32</td>\n",
       "      <td>1</td>\n",
       "    </tr>\n",
       "    <tr>\n",
       "      <th>3</th>\n",
       "      <td>1</td>\n",
       "      <td>89</td>\n",
       "      <td>66</td>\n",
       "      <td>23</td>\n",
       "      <td>94</td>\n",
       "      <td>28.1</td>\n",
       "      <td>0.167</td>\n",
       "      <td>21</td>\n",
       "      <td>0</td>\n",
       "    </tr>\n",
       "    <tr>\n",
       "      <th>4</th>\n",
       "      <td>0</td>\n",
       "      <td>137</td>\n",
       "      <td>40</td>\n",
       "      <td>35</td>\n",
       "      <td>168</td>\n",
       "      <td>43.1</td>\n",
       "      <td>2.288</td>\n",
       "      <td>33</td>\n",
       "      <td>1</td>\n",
       "    </tr>\n",
       "  </tbody>\n",
       "</table>\n",
       "</div>"
      ],
      "text/plain": [
       "   Pregnancies  Glucose  BP  ST  Insulin   BMI    DPF  Age  Outcome\n",
       "0            6      148  72  35        0  33.6  0.627   50        1\n",
       "1            1       85  66  29        0  26.6  0.351   31        0\n",
       "2            8      183  64   0        0  23.3  0.672   32        1\n",
       "3            1       89  66  23       94  28.1  0.167   21        0\n",
       "4            0      137  40  35      168  43.1  2.288   33        1"
      ]
     },
     "execution_count": 5,
     "metadata": {},
     "output_type": "execute_result"
    }
   ],
   "source": [
    "data.head()"
   ]
  },
  {
   "cell_type": "code",
   "execution_count": 6,
   "id": "91d70645-d281-4eb5-a193-b815f671838f",
   "metadata": {},
   "outputs": [
    {
     "name": "stdout",
     "output_type": "stream",
     "text": [
      "<class 'pandas.core.frame.DataFrame'>\n",
      "RangeIndex: 768 entries, 0 to 767\n",
      "Data columns (total 9 columns):\n",
      " #   Column       Non-Null Count  Dtype  \n",
      "---  ------       --------------  -----  \n",
      " 0   Pregnancies  768 non-null    int64  \n",
      " 1   Glucose      768 non-null    int64  \n",
      " 2   BP           768 non-null    int64  \n",
      " 3   ST           768 non-null    int64  \n",
      " 4   Insulin      768 non-null    int64  \n",
      " 5   BMI          768 non-null    float64\n",
      " 6   DPF          768 non-null    float64\n",
      " 7   Age          768 non-null    int64  \n",
      " 8   Outcome      768 non-null    int64  \n",
      "dtypes: float64(2), int64(7)\n",
      "memory usage: 54.1 KB\n"
     ]
    }
   ],
   "source": [
    "data.info()"
   ]
  },
  {
   "cell_type": "code",
   "execution_count": 7,
   "id": "7b3d1c74-2e9f-4319-a191-e03ee09c8456",
   "metadata": {},
   "outputs": [
    {
     "data": {
      "text/html": [
       "<div>\n",
       "<style scoped>\n",
       "    .dataframe tbody tr th:only-of-type {\n",
       "        vertical-align: middle;\n",
       "    }\n",
       "\n",
       "    .dataframe tbody tr th {\n",
       "        vertical-align: top;\n",
       "    }\n",
       "\n",
       "    .dataframe thead th {\n",
       "        text-align: right;\n",
       "    }\n",
       "</style>\n",
       "<table border=\"1\" class=\"dataframe\">\n",
       "  <thead>\n",
       "    <tr style=\"text-align: right;\">\n",
       "      <th></th>\n",
       "      <th>Pregnancies</th>\n",
       "      <th>Glucose</th>\n",
       "      <th>BP</th>\n",
       "      <th>ST</th>\n",
       "      <th>Insulin</th>\n",
       "      <th>BMI</th>\n",
       "      <th>DPF</th>\n",
       "      <th>Age</th>\n",
       "      <th>Outcome</th>\n",
       "    </tr>\n",
       "  </thead>\n",
       "  <tbody>\n",
       "    <tr>\n",
       "      <th>count</th>\n",
       "      <td>768.000000</td>\n",
       "      <td>768.000000</td>\n",
       "      <td>768.000000</td>\n",
       "      <td>768.000000</td>\n",
       "      <td>768.000000</td>\n",
       "      <td>768.000000</td>\n",
       "      <td>768.000000</td>\n",
       "      <td>768.000000</td>\n",
       "      <td>768.000000</td>\n",
       "    </tr>\n",
       "    <tr>\n",
       "      <th>mean</th>\n",
       "      <td>3.845052</td>\n",
       "      <td>120.894531</td>\n",
       "      <td>69.105469</td>\n",
       "      <td>20.536458</td>\n",
       "      <td>79.799479</td>\n",
       "      <td>31.992578</td>\n",
       "      <td>0.471876</td>\n",
       "      <td>33.240885</td>\n",
       "      <td>0.348958</td>\n",
       "    </tr>\n",
       "    <tr>\n",
       "      <th>std</th>\n",
       "      <td>3.369578</td>\n",
       "      <td>31.972618</td>\n",
       "      <td>19.355807</td>\n",
       "      <td>15.952218</td>\n",
       "      <td>115.244002</td>\n",
       "      <td>7.884160</td>\n",
       "      <td>0.331329</td>\n",
       "      <td>11.760232</td>\n",
       "      <td>0.476951</td>\n",
       "    </tr>\n",
       "    <tr>\n",
       "      <th>min</th>\n",
       "      <td>0.000000</td>\n",
       "      <td>0.000000</td>\n",
       "      <td>0.000000</td>\n",
       "      <td>0.000000</td>\n",
       "      <td>0.000000</td>\n",
       "      <td>0.000000</td>\n",
       "      <td>0.078000</td>\n",
       "      <td>21.000000</td>\n",
       "      <td>0.000000</td>\n",
       "    </tr>\n",
       "    <tr>\n",
       "      <th>25%</th>\n",
       "      <td>1.000000</td>\n",
       "      <td>99.000000</td>\n",
       "      <td>62.000000</td>\n",
       "      <td>0.000000</td>\n",
       "      <td>0.000000</td>\n",
       "      <td>27.300000</td>\n",
       "      <td>0.243750</td>\n",
       "      <td>24.000000</td>\n",
       "      <td>0.000000</td>\n",
       "    </tr>\n",
       "    <tr>\n",
       "      <th>50%</th>\n",
       "      <td>3.000000</td>\n",
       "      <td>117.000000</td>\n",
       "      <td>72.000000</td>\n",
       "      <td>23.000000</td>\n",
       "      <td>30.500000</td>\n",
       "      <td>32.000000</td>\n",
       "      <td>0.372500</td>\n",
       "      <td>29.000000</td>\n",
       "      <td>0.000000</td>\n",
       "    </tr>\n",
       "    <tr>\n",
       "      <th>75%</th>\n",
       "      <td>6.000000</td>\n",
       "      <td>140.250000</td>\n",
       "      <td>80.000000</td>\n",
       "      <td>32.000000</td>\n",
       "      <td>127.250000</td>\n",
       "      <td>36.600000</td>\n",
       "      <td>0.626250</td>\n",
       "      <td>41.000000</td>\n",
       "      <td>1.000000</td>\n",
       "    </tr>\n",
       "    <tr>\n",
       "      <th>max</th>\n",
       "      <td>17.000000</td>\n",
       "      <td>199.000000</td>\n",
       "      <td>122.000000</td>\n",
       "      <td>99.000000</td>\n",
       "      <td>846.000000</td>\n",
       "      <td>67.100000</td>\n",
       "      <td>2.420000</td>\n",
       "      <td>81.000000</td>\n",
       "      <td>1.000000</td>\n",
       "    </tr>\n",
       "  </tbody>\n",
       "</table>\n",
       "</div>"
      ],
      "text/plain": [
       "       Pregnancies     Glucose          BP          ST     Insulin  \\\n",
       "count   768.000000  768.000000  768.000000  768.000000  768.000000   \n",
       "mean      3.845052  120.894531   69.105469   20.536458   79.799479   \n",
       "std       3.369578   31.972618   19.355807   15.952218  115.244002   \n",
       "min       0.000000    0.000000    0.000000    0.000000    0.000000   \n",
       "25%       1.000000   99.000000   62.000000    0.000000    0.000000   \n",
       "50%       3.000000  117.000000   72.000000   23.000000   30.500000   \n",
       "75%       6.000000  140.250000   80.000000   32.000000  127.250000   \n",
       "max      17.000000  199.000000  122.000000   99.000000  846.000000   \n",
       "\n",
       "              BMI         DPF         Age     Outcome  \n",
       "count  768.000000  768.000000  768.000000  768.000000  \n",
       "mean    31.992578    0.471876   33.240885    0.348958  \n",
       "std      7.884160    0.331329   11.760232    0.476951  \n",
       "min      0.000000    0.078000   21.000000    0.000000  \n",
       "25%     27.300000    0.243750   24.000000    0.000000  \n",
       "50%     32.000000    0.372500   29.000000    0.000000  \n",
       "75%     36.600000    0.626250   41.000000    1.000000  \n",
       "max     67.100000    2.420000   81.000000    1.000000  "
      ]
     },
     "execution_count": 7,
     "metadata": {},
     "output_type": "execute_result"
    }
   ],
   "source": [
    "data.describe()"
   ]
  },
  {
   "cell_type": "code",
   "execution_count": 8,
   "id": "6e30f503-e4dd-4328-98ac-f13a52f11f8a",
   "metadata": {},
   "outputs": [
    {
     "data": {
      "text/plain": [
       "Pregnancies    0\n",
       "Glucose        0\n",
       "BP             0\n",
       "ST             0\n",
       "Insulin        0\n",
       "BMI            0\n",
       "DPF            0\n",
       "Age            0\n",
       "Outcome        0\n",
       "dtype: int64"
      ]
     },
     "execution_count": 8,
     "metadata": {},
     "output_type": "execute_result"
    }
   ],
   "source": [
    "data.isnull().sum()"
   ]
  },
  {
   "cell_type": "code",
   "execution_count": 9,
   "id": "fa429d06-fe8d-4f33-b541-582d7d6574db",
   "metadata": {},
   "outputs": [
    {
     "data": {
      "text/plain": [
       "0"
      ]
     },
     "execution_count": 9,
     "metadata": {},
     "output_type": "execute_result"
    }
   ],
   "source": [
    "data.duplicated().sum()"
   ]
  },
  {
   "cell_type": "markdown",
   "id": "0ce1b577-4c13-4774-8d54-cca6d2b7d57f",
   "metadata": {},
   "source": [
    "# **4. DATA EXPLORATION**"
   ]
  },
  {
   "cell_type": "code",
   "execution_count": 14,
   "id": "b658e847-b43c-4895-b762-7fdbff491481",
   "metadata": {},
   "outputs": [
    {
     "data": {
      "text/plain": [
       "<Axes: title={'center': 'Correlation Matrix'}>"
      ]
     },
     "execution_count": 14,
     "metadata": {},
     "output_type": "execute_result"
    },
    {
     "data": {
      "image/png": "[encoded data removed]",
      "text/plain": [
       "<Figure size 800x400 with 2 Axes>"
      ]
     },
     "metadata": {},
     "output_type": "display_data"
    }
   ],
   "source": [
    "plt.figure(figsize=(8,4), edgecolor =\"black\")\n",
    "plt.title(\"Correlation Matrix\",color=\"black\",fontweight='bold', fontsize=15)\n",
    "corr=data.corr()\n",
    "sns.heatmap(corr, cmap='Wistia', annot=True, cbar=True)"
   ]
  },
  {
   "cell_type": "markdown",
   "id": "f30011ad-4891-4545-9ffe-f76e571f6473",
   "metadata": {},
   "source": [
    "# **5. Model fitting**"
   ]
  },
  {
   "cell_type": "markdown",
   "id": "ef35a8fd-79cb-4051-8434-439a69cdf06d",
   "metadata": {},
   "source": [
    "## Train and Test Split"
   ]
  },
  {
   "cell_type": "code",
   "execution_count": 12,
   "id": "fe3cb885-962d-47c9-a4f1-20d7e50e6be7",
   "metadata": {},
   "outputs": [],
   "source": [
    "from sklearn.model_selection import train_test_split\n",
    "train_data, test_data = train_test_split(data,test_size=0.20, random_state=42)"
   ]
  },
  {
   "cell_type": "markdown",
   "id": "49fc20a3-0fd9-4772-b6a4-efca420fbfcd",
   "metadata": {},
   "source": [
    "## Fitting Logistic Regression"
   ]
  },
  {
   "cell_type": "code",
   "execution_count": 13,
   "id": "aa4285b5-8031-4d88-9e2e-dcfb3a678a3a",
   "metadata": {},
   "outputs": [],
   "source": [
    "import statsmodels.api as sm\n",
    "from statsmodels.formula.api import logit"
   ]
  },
  {
   "cell_type": "code",
   "execution_count": 20,
   "id": "020c5008-ded7-4ec7-9b1b-34d6349a2451",
   "metadata": {},
   "outputs": [
    {
     "name": "stdout",
     "output_type": "stream",
     "text": [
      "Optimization terminated successfully.\n",
      "         Current function value: 0.467835\n",
      "         Iterations 6\n"
     ]
    }
   ],
   "source": [
    "formula = ('Outcome ~ Pregnancies + Glucose + BP + ST + Insulin + BMI + DPF + Age')\n",
    "model = logit(formula=formula, data = train_data).fit()"
   ]
  },
  {
   "cell_type": "markdown",
   "id": "3dfe0b50-284c-44eb-8c62-59c7ccd34687",
   "metadata": {},
   "source": [
    "# **6. INTERPRETATION OF MODEL SUMMARY**"
   ]
  },
  {
   "cell_type": "code",
   "execution_count": 17,
   "id": "d0c3aec3-644b-41dc-b098-5281aac82900",
   "metadata": {},
   "outputs": [
    {
     "data": {
      "text/html": [
       "<table class=\"simpletable\">\n",
       "<caption>Logit Regression Results</caption>\n",
       "<tr>\n",
       "  <th>Dep. Variable:</th>        <td>Outcome</td>     <th>  No. Observations:  </th>  <td>   614</td>  \n",
       "</tr>\n",
       "<tr>\n",
       "  <th>Model:</th>                 <td>Logit</td>      <th>  Df Residuals:      </th>  <td>   605</td>  \n",
       "</tr>\n",
       "<tr>\n",
       "  <th>Method:</th>                 <td>MLE</td>       <th>  Df Model:          </th>  <td>     8</td>  \n",
       "</tr>\n",
       "<tr>\n",
       "  <th>Date:</th>            <td>Tue, 17 Oct 2023</td> <th>  Pseudo R-squ.:     </th>  <td>0.2752</td>  \n",
       "</tr>\n",
       "<tr>\n",
       "  <th>Time:</th>                <td>10:55:46</td>     <th>  Log-Likelihood:    </th> <td> -287.25</td> \n",
       "</tr>\n",
       "<tr>\n",
       "  <th>converged:</th>             <td>True</td>       <th>  LL-Null:           </th> <td> -396.34</td> \n",
       "</tr>\n",
       "<tr>\n",
       "  <th>Covariance Type:</th>     <td>nonrobust</td>    <th>  LLR p-value:       </th> <td>9.311e-43</td>\n",
       "</tr>\n",
       "</table>\n",
       "<table class=\"simpletable\">\n",
       "<tr>\n",
       "       <td></td>          <th>coef</th>     <th>std err</th>      <th>z</th>      <th>P>|z|</th>  <th>[0.025</th>    <th>0.975]</th>  \n",
       "</tr>\n",
       "<tr>\n",
       "  <th>Intercept</th>   <td>   -9.0359</td> <td>    0.837</td> <td>  -10.802</td> <td> 0.000</td> <td>  -10.675</td> <td>   -7.396</td>\n",
       "</tr>\n",
       "<tr>\n",
       "  <th>Pregnancies</th> <td>    0.0645</td> <td>    0.036</td> <td>    1.791</td> <td> 0.073</td> <td>   -0.006</td> <td>    0.135</td>\n",
       "</tr>\n",
       "<tr>\n",
       "  <th>Glucose</th>     <td>    0.0341</td> <td>    0.004</td> <td>    8.055</td> <td> 0.000</td> <td>    0.026</td> <td>    0.042</td>\n",
       "</tr>\n",
       "<tr>\n",
       "  <th>BP</th>          <td>   -0.0139</td> <td>    0.006</td> <td>   -2.260</td> <td> 0.024</td> <td>   -0.026</td> <td>   -0.002</td>\n",
       "</tr>\n",
       "<tr>\n",
       "  <th>ST</th>          <td>    0.0031</td> <td>    0.008</td> <td>    0.397</td> <td> 0.691</td> <td>   -0.012</td> <td>    0.019</td>\n",
       "</tr>\n",
       "<tr>\n",
       "  <th>Insulin</th>     <td>   -0.0018</td> <td>    0.001</td> <td>   -1.782</td> <td> 0.075</td> <td>   -0.004</td> <td>    0.000</td>\n",
       "</tr>\n",
       "<tr>\n",
       "  <th>BMI</th>         <td>    0.1026</td> <td>    0.017</td> <td>    5.948</td> <td> 0.000</td> <td>    0.069</td> <td>    0.136</td>\n",
       "</tr>\n",
       "<tr>\n",
       "  <th>DPF</th>         <td>    0.6945</td> <td>    0.330</td> <td>    2.107</td> <td> 0.035</td> <td>    0.049</td> <td>    1.341</td>\n",
       "</tr>\n",
       "<tr>\n",
       "  <th>Age</th>         <td>    0.0371</td> <td>    0.011</td> <td>    3.400</td> <td> 0.001</td> <td>    0.016</td> <td>    0.058</td>\n",
       "</tr>\n",
       "</table>"
      ],
      "text/latex": [
       "\\begin{center}\n",
       "\\begin{tabular}{lclc}\n",
       "\\toprule\n",
       "\\textbf{Dep. Variable:}   &     Outcome      & \\textbf{  No. Observations:  } &      614    \\\\\n",
       "\\textbf{Model:}           &      Logit       & \\textbf{  Df Residuals:      } &      605    \\\\\n",
       "\\textbf{Method:}          &       MLE        & \\textbf{  Df Model:          } &        8    \\\\\n",
       "\\textbf{Date:}            & Tue, 17 Oct 2023 & \\textbf{  Pseudo R-squ.:     } &   0.2752    \\\\\n",
       "\\textbf{Time:}            &     10:55:46     & \\textbf{  Log-Likelihood:    } &   -287.25   \\\\\n",
       "\\textbf{converged:}       &       True       & \\textbf{  LL-Null:           } &   -396.34   \\\\\n",
       "\\textbf{Covariance Type:} &    nonrobust     & \\textbf{  LLR p-value:       } & 9.311e-43   \\\\\n",
       "\\bottomrule\n",
       "\\end{tabular}\n",
       "\\begin{tabular}{lcccccc}\n",
       "                     & \\textbf{coef} & \\textbf{std err} & \\textbf{z} & \\textbf{P$> |$z$|$} & \\textbf{[0.025} & \\textbf{0.975]}  \\\\\n",
       "\\midrule\n",
       "\\textbf{Intercept}   &      -9.0359  &        0.837     &   -10.802  &         0.000        &      -10.675    &       -7.396     \\\\\n",
       "\\textbf{Pregnancies} &       0.0645  &        0.036     &     1.791  &         0.073        &       -0.006    &        0.135     \\\\\n",
       "\\textbf{Glucose}     &       0.0341  &        0.004     &     8.055  &         0.000        &        0.026    &        0.042     \\\\\n",
       "\\textbf{BP}          &      -0.0139  &        0.006     &    -2.260  &         0.024        &       -0.026    &       -0.002     \\\\\n",
       "\\textbf{ST}          &       0.0031  &        0.008     &     0.397  &         0.691        &       -0.012    &        0.019     \\\\\n",
       "\\textbf{Insulin}     &      -0.0018  &        0.001     &    -1.782  &         0.075        &       -0.004    &        0.000     \\\\\n",
       "\\textbf{BMI}         &       0.1026  &        0.017     &     5.948  &         0.000        &        0.069    &        0.136     \\\\\n",
       "\\textbf{DPF}         &       0.6945  &        0.330     &     2.107  &         0.035        &        0.049    &        1.341     \\\\\n",
       "\\textbf{Age}         &       0.0371  &        0.011     &     3.400  &         0.001        &        0.016    &        0.058     \\\\\n",
       "\\bottomrule\n",
       "\\end{tabular}\n",
       "%\\caption{Logit Regression Results}\n",
       "\\end{center}"
      ],
      "text/plain": [
       "<class 'statsmodels.iolib.summary.Summary'>\n",
       "\"\"\"\n",
       "                           Logit Regression Results                           \n",
       "==============================================================================\n",
       "Dep. Variable:                Outcome   No. Observations:                  614\n",
       "Model:                          Logit   Df Residuals:                      605\n",
       "Method:                           MLE   Df Model:                            8\n",
       "Date:                Tue, 17 Oct 2023   Pseudo R-squ.:                  0.2752\n",
       "Time:                        10:55:46   Log-Likelihood:                -287.25\n",
       "converged:                       True   LL-Null:                       -396.34\n",
       "Covariance Type:            nonrobust   LLR p-value:                 9.311e-43\n",
       "===============================================================================\n",
       "                  coef    std err          z      P>|z|      [0.025      0.975]\n",
       "-------------------------------------------------------------------------------\n",
       "Intercept      -9.0359      0.837    -10.802      0.000     -10.675      -7.396\n",
       "Pregnancies     0.0645      0.036      1.791      0.073      -0.006       0.135\n",
       "Glucose         0.0341      0.004      8.055      0.000       0.026       0.042\n",
       "BP             -0.0139      0.006     -2.260      0.024      -0.026      -0.002\n",
       "ST              0.0031      0.008      0.397      0.691      -0.012       0.019\n",
       "Insulin        -0.0018      0.001     -1.782      0.075      -0.004       0.000\n",
       "BMI             0.1026      0.017      5.948      0.000       0.069       0.136\n",
       "DPF             0.6945      0.330      2.107      0.035       0.049       1.341\n",
       "Age             0.0371      0.011      3.400      0.001       0.016       0.058\n",
       "===============================================================================\n",
       "\"\"\""
      ]
     },
     "execution_count": 17,
     "metadata": {},
     "output_type": "execute_result"
    }
   ],
   "source": [
    "model.summary()"
   ]
  },
  {
   "cell_type": "markdown",
   "id": "7310d80d-b28a-45c5-94b3-f7d70f86b4fa",
   "metadata": {},
   "source": [
    "## ODDs Ration"
   ]
  },
  {
   "cell_type": "code",
   "execution_count": 21,
   "id": "76c45019-bd13-4077-8c8c-f058d3ee43a0",
   "metadata": {},
   "outputs": [
    {
     "name": "stdout",
     "output_type": "stream",
     "text": [
      "Intercept      0.000119\n",
      "Pregnancies    1.066675\n",
      "Glucose        1.034695\n",
      "BP             0.986207\n",
      "ST             1.003154\n",
      "Insulin        0.998185\n",
      "BMI            1.108059\n",
      "DPF            2.002724\n",
      "Age            1.037783\n",
      "dtype: float64\n"
     ]
    }
   ],
   "source": [
    "print(np.exp(model.params))"
   ]
  },
  {
   "cell_type": "markdown",
   "id": "5201ebfe-8518-4c91-824d-12c50b50e878",
   "metadata": {},
   "source": [
    "## Marginal Effects Computation"
   ]
  },
  {
   "cell_type": "code",
   "execution_count": 15,
   "id": "a5ac9e13-9981-443d-b6ac-5e8a3cad1abd",
   "metadata": {},
   "outputs": [
    {
     "name": "stdout",
     "output_type": "stream",
     "text": [
      "        Logit Marginal Effects       \n",
      "=====================================\n",
      "Dep. Variable:                Outcome\n",
      "Method:                          dydx\n",
      "At:                           overall\n",
      "============================================================================================\n",
      "                              dy/dx    std err          z      P>|z|      [0.025      0.975]\n",
      "--------------------------------------------------------------------------------------------\n",
      "Pregnancies                  0.0098      0.005      1.807      0.071      -0.001       0.021\n",
      "Glucose                      0.0052      0.001     10.107      0.000       0.004       0.006\n",
      "BloodPressure               -0.0021      0.001     -2.291      0.022      -0.004      -0.000\n",
      "SkinThickness                0.0005      0.001      0.398      0.691      -0.002       0.003\n",
      "Insulin                     -0.0003      0.000     -1.797      0.072      -0.001    2.51e-05\n",
      "BMI                          0.0156      0.002      6.584      0.000       0.011       0.020\n",
      "DiabetesPedigreeFunction     0.1059      0.050      2.132      0.033       0.009       0.203\n",
      "Age                          0.0057      0.002      3.514      0.000       0.003       0.009\n",
      "============================================================================================\n"
     ]
    }
   ],
   "source": [
    "# perhitungan efek marginal \n",
    "AME = model.get_margeff(at ='overall', method='dydx')\n",
    "print (AME.summary())"
   ]
  },
  {
   "cell_type": "markdown",
   "id": "27f8f069-e215-4e5e-be1a-cb934f56d538",
   "metadata": {},
   "source": [
    "# **MODEL EVALUATION**"
   ]
  },
  {
   "cell_type": "markdown",
   "id": "fd6c8c36-0d17-4abf-875c-f109fbb59a32",
   "metadata": {},
   "source": [
    "## Confusion Matrix"
   ]
  },
  {
   "cell_type": "code",
   "execution_count": 17,
   "id": "e545cadd-09a2-400d-8309-ed3a50d25752",
   "metadata": {},
   "outputs": [
    {
     "name": "stdout",
     "output_type": "stream",
     "text": [
      "Predicted   0   1  All\n",
      "Actual                \n",
      "0          79  20   99\n",
      "1          18  37   55\n",
      "All        97  57  154\n"
     ]
    }
   ],
   "source": [
    "from sklearn.metrics import classification_report , accuracy_score\n",
    "\n",
    "prediction = model.predict(exog = test_data)\n",
    "cutoff = 0.5\n",
    "y_prediction = np.where(prediction > cutoff, 1,0)\n",
    "y_actual = test_data['Outcome']\n",
    "conf_matrix = pd.crosstab(y_actual, y_prediction, rownames=[\"Actual\"], colnames={\"Predicted\"}, margins=True)\n",
    "print (conf_matrix)"
   ]
  },
  {
   "cell_type": "markdown",
   "id": "67e846f1-28dd-4952-8e4f-a37435150043",
   "metadata": {},
   "source": [
    "## Classification Accuracy"
   ]
  },
  {
   "cell_type": "code",
   "execution_count": 18,
   "id": "f9b32bbd-3604-43ff-8440-07758c5b80b0",
   "metadata": {},
   "outputs": [
    {
     "name": "stdout",
     "output_type": "stream",
     "text": [
      "Accuracy :0.75%\n"
     ]
    }
   ],
   "source": [
    "# accuracy classification\n",
    "accuracy = accuracy_score(y_actual, y_prediction)\n",
    "print('Accuracy :%.2f' % accuracy + \"%\")"
   ]
  },
  {
   "cell_type": "markdown",
   "id": "1b81fdfa-9165-49d9-bee5-605bdebaf5d5",
   "metadata": {},
   "source": [
    "## Classification Report"
   ]
  },
  {
   "cell_type": "code",
   "execution_count": 19,
   "id": "b719ad58-ebf3-434b-8730-f794eb49bc5a",
   "metadata": {},
   "outputs": [
    {
     "name": "stdout",
     "output_type": "stream",
     "text": [
      "              precision    recall  f1-score   support\n",
      "\n",
      "           0       0.81      0.80      0.81        99\n",
      "           1       0.65      0.67      0.66        55\n",
      "\n",
      "    accuracy                           0.75       154\n",
      "   macro avg       0.73      0.74      0.73       154\n",
      "weighted avg       0.76      0.75      0.75       154\n",
      "\n"
     ]
    }
   ],
   "source": [
    "# laporan klasifikasi \n",
    "print (classification_report(y_actual,y_prediction))"
   ]
  },
  {
   "cell_type": "code",
   "execution_count": null,
   "id": "89fb414d-5a7f-4509-8066-5e1cb77da004",
   "metadata": {},
   "outputs": [],
   "source": []
  }
 ],
 "metadata": {
  "kernelspec": {
   "display_name": "Python 3 (ipykernel)",
   "language": "python",
   "name": "python3"
  },
  "language_info": {
   "codemirror_mode": {
    "name": "ipython",
    "version": 3
   },
   "file_extension": ".py",
   "mimetype": "text/x-python",
   "name": "python",
   "nbconvert_exporter": "python",
   "pygments_lexer": "ipython3",
   "version": "3.11.4"
  }
 },
 "nbformat": 4,
 "nbformat_minor": 5
}
